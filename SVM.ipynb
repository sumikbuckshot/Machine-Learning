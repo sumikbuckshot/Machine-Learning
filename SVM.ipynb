{
 "cells": [
  {
   "cell_type": "code",
   "execution_count": 1,
   "metadata": {},
   "outputs": [],
   "source": [
    "from sklearn.datasets import load_digits"
   ]
  },
  {
   "cell_type": "code",
   "execution_count": 2,
   "metadata": {},
   "outputs": [],
   "source": [
    "digit=load_digits()"
   ]
  },
  {
   "cell_type": "code",
   "execution_count": 3,
   "metadata": {},
   "outputs": [
    {
     "data": {
      "text/plain": [
       "['DESCR', 'data', 'images', 'target', 'target_names']"
      ]
     },
     "execution_count": 3,
     "metadata": {},
     "output_type": "execute_result"
    }
   ],
   "source": [
    "dir(digit)"
   ]
  },
  {
   "cell_type": "code",
   "execution_count": 6,
   "metadata": {},
   "outputs": [],
   "source": [
    "#features\n",
    "features=digit.data"
   ]
  },
  {
   "cell_type": "code",
   "execution_count": 7,
   "metadata": {},
   "outputs": [],
   "source": [
    "#label\n",
    "label=digit.target"
   ]
  },
  {
   "cell_type": "code",
   "execution_count": 9,
   "metadata": {},
   "outputs": [],
   "source": [
    "#training and testing\n",
    "from sklearn.model_selection import train_test_split\n",
    "X,x,Y,y=train_test_split(features,label,test_size=0.2)"
   ]
  },
  {
   "cell_type": "code",
   "execution_count": 10,
   "metadata": {},
   "outputs": [],
   "source": [
    "import matplotlib.pyplot as plt"
   ]
  },
  {
   "cell_type": "code",
   "execution_count": 24,
   "metadata": {},
   "outputs": [
    {
     "data": {
      "text/plain": [
       "<matplotlib.image.AxesImage at 0x7fa1da8cfcf8>"
      ]
     },
     "execution_count": 24,
     "metadata": {},
     "output_type": "execute_result"
    },
    {
     "data": {
      "image/png": "[encoded data removed]",
      "text/plain": [
       "<Figure size 432x288 with 1 Axes>"
      ]
     },
     "metadata": {},
     "output_type": "display_data"
    }
   ],
   "source": [
    "plt.imshow(digit.images[3])"
   ]
  },
  {
   "cell_type": "code",
   "execution_count": 14,
   "metadata": {},
   "outputs": [],
   "source": [
    "#now calling SVC\n",
    "from sklearn.svm import SVC"
   ]
  },
  {
   "cell_type": "code",
   "execution_count": 15,
   "metadata": {},
   "outputs": [],
   "source": [
    "clf=SVC()"
   ]
  },
  {
   "cell_type": "code",
   "execution_count": 25,
   "metadata": {},
   "outputs": [
    {
     "name": "stderr",
     "output_type": "stream",
     "text": [
      "/home/ubuntu/.local/lib/python3.6/site-packages/sklearn/svm/base.py:193: FutureWarning: The default value of gamma will change from 'auto' to 'scale' in version 0.22 to account better for unscaled features. Set gamma explicitly to 'auto' or 'scale' to avoid this warning.\n",
      "  \"avoid this warning.\", FutureWarning)\n"
     ]
    }
   ],
   "source": [
    "#now training my clf\n",
    "trained=clf.fit(X,Y)"
   ]
  },
  {
   "cell_type": "code",
   "execution_count": 27,
   "metadata": {},
   "outputs": [],
   "source": [
    "#now time for prediction\n",
    "output=trained.predict(x)"
   ]
  },
  {
   "cell_type": "code",
   "execution_count": 28,
   "metadata": {},
   "outputs": [
    {
     "data": {
      "text/plain": [
       "array([8, 5, 8, 8, 5, 7, 4, 8, 8, 8, 2, 9, 8, 8, 4, 8, 7, 5, 1, 8, 8, 8,\n",
       "       8, 8, 0, 8, 8, 8, 8, 8, 9, 8, 8, 4, 3, 4, 8, 8, 9, 8, 8, 4, 4, 8,\n",
       "       3, 8, 8, 2, 8, 6, 8, 2, 8, 8, 9, 7, 8, 8, 9, 8, 8, 6, 6, 8, 8, 8,\n",
       "       8, 4, 3, 8, 4, 6, 8, 8, 8, 8, 6, 3, 8, 9, 8, 7, 8, 8, 9, 8, 8, 4,\n",
       "       8, 8, 7, 8, 7, 8, 8, 8, 8, 8, 8, 9, 2, 2, 8, 7, 3, 8, 9, 8, 6, 1,\n",
       "       0, 6, 6, 8, 3, 8, 8, 8, 9, 8, 8, 8, 7, 8, 0, 8, 8, 7, 8, 6, 3, 8,\n",
       "       8, 3, 8, 8, 8, 4, 8, 8, 0, 8, 8, 0, 8, 8, 8, 1, 0, 3, 9, 4, 2, 9,\n",
       "       6, 6, 0, 8, 8, 8, 8, 8, 4, 8, 8, 8, 2, 8, 1, 8, 8, 4, 8, 0, 4, 4,\n",
       "       6, 8, 8, 9, 9, 8, 6, 0, 8, 7, 9, 2, 8, 9, 8, 8, 9, 9, 8, 8, 0, 8,\n",
       "       8, 4, 4, 8, 6, 8, 6, 8, 1, 8, 0, 8, 8, 0, 8, 8, 4, 8, 8, 6, 8, 8,\n",
       "       9, 8, 8, 8, 4, 8, 1, 1, 8, 6, 8, 8, 8, 3, 1, 8, 5, 8, 8, 4, 8, 3,\n",
       "       8, 5, 0, 0, 8, 9, 3, 8, 9, 0, 1, 8, 8, 2, 6, 8, 8, 6, 8, 4, 8, 8,\n",
       "       4, 8, 8, 8, 8, 7, 6, 8, 8, 6, 8, 8, 6, 8, 8, 8, 0, 2, 2, 1, 3, 2,\n",
       "       8, 8, 8, 8, 9, 8, 0, 6, 0, 6, 8, 3, 8, 8, 8, 4, 8, 3, 8, 8, 8, 6,\n",
       "       1, 9, 9, 8, 0, 8, 6, 7, 8, 1, 8, 0, 8, 8, 8, 8, 8, 8, 8, 8, 8, 3,\n",
       "       8, 8, 0, 0, 7, 8, 8, 1, 8, 1, 8, 8, 8, 9, 1, 0, 3, 6, 7, 8, 8, 1,\n",
       "       9, 7, 8, 6, 8, 8, 8, 8])"
      ]
     },
     "execution_count": 28,
     "metadata": {},
     "output_type": "execute_result"
    }
   ],
   "source": [
    "output"
   ]
  },
  {
   "cell_type": "code",
   "execution_count": 29,
   "metadata": {},
   "outputs": [
    {
     "data": {
      "text/plain": [
       "array([7, 5, 0, 1, 5, 7, 4, 5, 8, 6, 2, 9, 9, 5, 4, 7, 7, 5, 1, 1, 8, 1,\n",
       "       4, 3, 0, 3, 5, 3, 8, 1, 9, 3, 8, 4, 3, 4, 8, 7, 9, 1, 5, 4, 4, 8,\n",
       "       3, 7, 1, 2, 1, 6, 0, 2, 6, 1, 9, 7, 5, 9, 9, 9, 3, 6, 6, 8, 6, 5,\n",
       "       7, 4, 3, 0, 4, 6, 5, 0, 2, 2, 6, 3, 4, 9, 5, 7, 5, 5, 9, 7, 1, 4,\n",
       "       1, 3, 7, 8, 7, 3, 1, 6, 5, 0, 3, 9, 2, 2, 0, 7, 3, 3, 9, 4, 6, 1,\n",
       "       0, 6, 6, 5, 3, 1, 1, 5, 9, 4, 6, 2, 7, 5, 0, 5, 2, 7, 6, 6, 3, 2,\n",
       "       5, 3, 0, 8, 2, 4, 8, 5, 0, 4, 5, 0, 8, 5, 3, 1, 0, 3, 9, 4, 2, 9,\n",
       "       6, 6, 0, 3, 1, 7, 5, 3, 4, 5, 6, 8, 2, 5, 1, 5, 1, 4, 8, 0, 4, 4,\n",
       "       6, 5, 5, 9, 9, 1, 6, 0, 6, 7, 9, 2, 7, 9, 2, 2, 9, 9, 1, 3, 0, 7,\n",
       "       0, 4, 4, 5, 6, 7, 6, 5, 1, 3, 0, 8, 2, 0, 3, 5, 4, 8, 8, 6, 3, 3,\n",
       "       9, 4, 2, 1, 4, 1, 1, 1, 2, 6, 5, 8, 5, 3, 1, 6, 5, 2, 2, 4, 2, 3,\n",
       "       2, 5, 0, 0, 9, 9, 3, 5, 9, 0, 1, 5, 7, 2, 6, 0, 7, 6, 2, 4, 7, 1,\n",
       "       4, 8, 9, 3, 1, 7, 6, 5, 1, 6, 0, 5, 6, 8, 2, 1, 0, 2, 2, 1, 3, 2,\n",
       "       5, 1, 6, 5, 9, 1, 0, 6, 0, 6, 9, 3, 6, 6, 8, 4, 0, 3, 8, 8, 3, 6,\n",
       "       1, 9, 9, 7, 0, 1, 6, 7, 3, 1, 5, 0, 5, 8, 2, 3, 8, 4, 5, 2, 1, 3,\n",
       "       7, 2, 0, 0, 7, 7, 5, 1, 5, 1, 3, 1, 2, 9, 1, 0, 3, 6, 7, 3, 8, 1,\n",
       "       9, 7, 5, 6, 5, 8, 1, 8])"
      ]
     },
     "execution_count": 29,
     "metadata": {},
     "output_type": "execute_result"
    }
   ],
   "source": [
    "y"
   ]
  },
  {
   "cell_type": "code",
   "execution_count": 31,
   "metadata": {},
   "outputs": [],
   "source": [
    "from sklearn.metrics import accuracy_score"
   ]
  },
  {
   "cell_type": "code",
   "execution_count": 35,
   "metadata": {},
   "outputs": [],
   "source": [
    "acc=accuracy_score(output,y)"
   ]
  },
  {
   "cell_type": "code",
   "execution_count": 36,
   "metadata": {},
   "outputs": [
    {
     "data": {
      "text/plain": [
       "0.5333333333333333"
      ]
     },
     "execution_count": 36,
     "metadata": {},
     "output_type": "execute_result"
    }
   ],
   "source": [
    "acc"
   ]
  },
  {
   "cell_type": "code",
   "execution_count": 37,
   "metadata": {},
   "outputs": [
    {
     "data": {
      "text/plain": [
       "array([4, 9, 4, ..., 4, 1, 5])"
      ]
     },
     "execution_count": 37,
     "metadata": {},
     "output_type": "execute_result"
    }
   ],
   "source": [
    "Y"
   ]
  },
  {
   "cell_type": "code",
   "execution_count": null,
   "metadata": {},
   "outputs": [],
   "source": []
  }
 ],
 "metadata": {
  "kernelspec": {
   "display_name": "Python 3",
   "language": "python",
   "name": "python3"
  },
  "language_info": {
   "codemirror_mode": {
    "name": "ipython",
    "version": 3
   },
   "file_extension": ".py",
   "mimetype": "text/x-python",
   "name": "python",
   "nbconvert_exporter": "python",
   "pygments_lexer": "ipython3",
   "version": "3.6.8"
  }
 },
 "nbformat": 4,
 "nbformat_minor": 2
}
