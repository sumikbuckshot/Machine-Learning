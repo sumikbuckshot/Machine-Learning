{
 "cells": [
  {
   "cell_type": "code",
   "execution_count": 12,
   "metadata": {},
   "outputs": [
    {
     "name": "stdout",
     "output_type": "stream",
     "text": [
      "Collecting tweepy\n",
      "  Using cached https://files.pythonhosted.org/packages/d5/5f/daac4b4e9b30d7d2a6fdd16a880ff79f27918fe388e4dfc1983dec3a9876/tweepy-3.7.0-py2.py3-none-any.whl\n",
      "Collecting PySocks>=1.5.7 (from tweepy)\n",
      "  Using cached https://files.pythonhosted.org/packages/cd/18/102cc70347486e75235a29a6543f002cf758042189cb063ec25334993e36/PySocks-1.7.0-py3-none-any.whl\n",
      "Collecting requests-oauthlib>=0.7.0 (from tweepy)\n",
      "  Using cached https://files.pythonhosted.org/packages/c2/e2/9fd03d55ffb70fe51f587f20bcf407a6927eb121de86928b34d162f0b1ac/requests_oauthlib-1.2.0-py2.py3-none-any.whl\n",
      "Collecting requests>=2.11.1 (from tweepy)\n",
      "  Using cached https://files.pythonhosted.org/packages/51/bd/23c926cd341ea6b7dd0b2a00aba99ae0f828be89d72b2190f27c11d4b7fb/requests-2.22.0-py2.py3-none-any.whl\n",
      "Collecting six>=1.10.0 (from tweepy)\n",
      "  Using cached https://files.pythonhosted.org/packages/73/fb/00a976f728d0d1fecfe898238ce23f502a721c0ac0ecfedb80e0d88c64e9/six-1.12.0-py2.py3-none-any.whl\n",
      "Collecting oauthlib>=3.0.0 (from requests-oauthlib>=0.7.0->tweepy)\n",
      "  Using cached https://files.pythonhosted.org/packages/58/5e/289e98ff5ad1a321945803000c5f10f5f90eba346d13139ecdd075cfbe17/oauthlib-3.0.2-py2.py3-none-any.whl\n",
      "Collecting idna<2.9,>=2.5 (from requests>=2.11.1->tweepy)\n",
      "  Using cached https://files.pythonhosted.org/packages/14/2c/cd551d81dbe15200be1cf41cd03869a46fe7226e7450af7a6545bfc474c9/idna-2.8-py2.py3-none-any.whl\n",
      "Collecting chardet<3.1.0,>=3.0.2 (from requests>=2.11.1->tweepy)\n",
      "  Using cached https://files.pythonhosted.org/packages/bc/a9/01ffebfb562e4274b6487b4bb1ddec7ca55ec7510b22e4c51f14098443b8/chardet-3.0.4-py2.py3-none-any.whl\n",
      "Collecting urllib3!=1.25.0,!=1.25.1,<1.26,>=1.21.1 (from requests>=2.11.1->tweepy)\n",
      "  Using cached https://files.pythonhosted.org/packages/e6/60/247f23a7121ae632d62811ba7f273d0e58972d75e58a94d329d51550a47d/urllib3-1.25.3-py2.py3-none-any.whl\n",
      "Collecting certifi>=2017.4.17 (from requests>=2.11.1->tweepy)\n",
      "  Using cached https://files.pythonhosted.org/packages/69/1b/b853c7a9d4f6a6d00749e94eb6f3a041e342a885b87340b79c1ef73e3a78/certifi-2019.6.16-py2.py3-none-any.whl\n",
      "Installing collected packages: PySocks, idna, chardet, urllib3, certifi, requests, oauthlib, requests-oauthlib, six, tweepy\n",
      "Successfully installed PySocks-1.7.0 certifi-2019.6.16 chardet-3.0.4 idna-2.8 oauthlib-3.0.2 requests-2.22.0 requests-oauthlib-1.2.0 six-1.12.0 tweepy-3.7.0 urllib3-1.25.3\n",
      "Collecting textblob\n",
      "  Downloading https://files.pythonhosted.org/packages/60/f0/1d9bfcc8ee6b83472ec571406bd0dd51c0e6330ff1a51b2d29861d389e85/textblob-0.15.3-py2.py3-none-any.whl (636kB)\n",
      "\u001b[K    100% |████████████████████████████████| 645kB 1.8MB/s eta 0:00:01\n",
      "\u001b[?25hCollecting nltk>=3.1 (from textblob)\n",
      "  Downloading https://files.pythonhosted.org/packages/87/16/4d247e27c55a7b6412e7c4c86f2500ae61afcbf5932b9e3491f8462f8d9e/nltk-3.4.4.zip (1.5MB)\n",
      "\u001b[K    100% |████████████████████████████████| 1.5MB 912kB/s eta 0:00:01\n",
      "\u001b[?25hCollecting six (from nltk>=3.1->textblob)\n",
      "  Using cached https://files.pythonhosted.org/packages/73/fb/00a976f728d0d1fecfe898238ce23f502a721c0ac0ecfedb80e0d88c64e9/six-1.12.0-py2.py3-none-any.whl\n",
      "Building wheels for collected packages: nltk\n",
      "  Running setup.py bdist_wheel for nltk ... \u001b[?25ldone\n",
      "\u001b[?25h  Stored in directory: /home/ubuntu/.cache/pip/wheels/41/c8/31/48ace4468e236e0e8435f30d33e43df48594e4d53e367cf061\n",
      "Successfully built nltk\n",
      "Installing collected packages: six, nltk, textblob\n",
      "Successfully installed nltk-3.4.4 six-1.12.0 textblob-0.15.3\n"
     ]
    }
   ],
   "source": [
    "!pip3 install tweepy\n",
    "!pip3 install textblob"
   ]
  },
  {
   "cell_type": "code",
   "execution_count": 13,
   "metadata": {},
   "outputs": [],
   "source": [
    "import tweepy\n",
    "import matplotlib.pyplot as plt\n",
    "from textblob import TextBlob\n",
    "\n"
   ]
  },
  {
   "cell_type": "code",
   "execution_count": 14,
   "metadata": {},
   "outputs": [],
   "source": [
    "#all 4  aunthetication keys to access twitter api \n",
    "#to connect as oath handler or jump server / reverse proxy server \n",
    "consumer_key='6pbgsEZkjhIv0k09XPnXpfgbW'\n",
    "consumer_sec='po6NAF1jXqIMQgMiWdhSPq50srwE0ksOYyAEOPoMNdp1k8s063'\n",
    "#from proxy server we need to connect web server of twitter\n",
    "access_token='769803334106619904-kPG8pmNg20N9DY5GFV5xbhZbzfeHhIf'\n",
    "access_sec='HQ3agnUvdofsN39mmwCllSJMAFlcrSyzgPJhzFeRNsHaw'"
   ]
  },
  {
   "cell_type": "code",
   "execution_count": 15,
   "metadata": {},
   "outputs": [],
   "source": [
    "#connecting to jump server of twitter\n",
    "auth=tweepy.OAuthHandler(consumer_key,consumer_sec)"
   ]
  },
  {
   "cell_type": "code",
   "execution_count": 17,
   "metadata": {},
   "outputs": [],
   "source": [
    "#now we can connect frm jump server to web server \n",
    "auth.set_access_token(access_token,access_sec)"
   ]
  },
  {
   "cell_type": "code",
   "execution_count": 18,
   "metadata": {},
   "outputs": [],
   "source": [
    "#now we can connect to api storage dserver of twitter\n",
    "api_connect=tweepy.API(auth)"
   ]
  },
  {
   "cell_type": "code",
   "execution_count": 28,
   "metadata": {},
   "outputs": [],
   "source": [
    "#now you can search any topic on twitter\n",
    "tweet_data=api_connect.search('modi',count=30)"
   ]
  },
  {
   "cell_type": "code",
   "execution_count": 29,
   "metadata": {},
   "outputs": [
    {
     "name": "stdout",
     "output_type": "stream",
     "text": [
      "Sentiment(polarity=0.0, subjectivity=0.03333333333333333)\n",
      "neutral\n",
      "Sentiment(polarity=0.0, subjectivity=0.0)\n",
      "neutral\n",
      "Sentiment(polarity=0.0, subjectivity=0.0)\n",
      "neutral\n",
      "Sentiment(polarity=0.16190476190476188, subjectivity=0.5452380952380952)\n",
      "positive\n",
      "Sentiment(polarity=0.0, subjectivity=0.0)\n",
      "neutral\n",
      "Sentiment(polarity=0.0, subjectivity=0.0)\n",
      "neutral\n",
      "Sentiment(polarity=0.0, subjectivity=0.0)\n",
      "neutral\n",
      "Sentiment(polarity=-0.012500000000000011, subjectivity=0.65)\n",
      "negative\n",
      "Sentiment(polarity=0.2, subjectivity=0.2)\n",
      "positive\n",
      "Sentiment(polarity=0.4222222222222222, subjectivity=0.7999999999999999)\n",
      "positive\n",
      "Sentiment(polarity=0.0, subjectivity=0.0)\n",
      "neutral\n",
      "Sentiment(polarity=-0.3, subjectivity=0.4)\n",
      "negative\n",
      "Sentiment(polarity=0.5, subjectivity=0.5)\n",
      "positive\n",
      "Sentiment(polarity=0.0, subjectivity=0.0)\n",
      "neutral\n",
      "Sentiment(polarity=0.0, subjectivity=0.0)\n",
      "neutral\n",
      "Sentiment(polarity=0.1875, subjectivity=0.3125)\n",
      "positive\n",
      "Sentiment(polarity=0.375, subjectivity=0.5)\n",
      "positive\n",
      "Sentiment(polarity=0.0, subjectivity=0.0)\n",
      "neutral\n",
      "Sentiment(polarity=0.0, subjectivity=0.0)\n",
      "neutral\n",
      "Sentiment(polarity=0.0, subjectivity=0.0)\n",
      "neutral\n",
      "Sentiment(polarity=-0.012500000000000011, subjectivity=0.65)\n",
      "negative\n",
      "Sentiment(polarity=0.0, subjectivity=0.0)\n",
      "neutral\n"
     ]
    },
    {
     "data": {
      "image/png": "[encoded data removed]",
      "text/plain": [
       "<Figure size 432x288 with 1 Axes>"
      ]
     },
     "metadata": {},
     "output_type": "display_data"
    }
   ],
   "source": [
    "pos=0\n",
    "neu=0\n",
    "neg=0\n",
    "for tweet in tweet_data:\n",
    "    analysis=TextBlob(tweet.text)\n",
    "    print(analysis.sentiment)\n",
    "    if analysis.sentiment.polarity>0:\n",
    "        print(\"positive\")\n",
    "        pos=pos+1\n",
    "    elif analysis.sentiment.polarity==0:\n",
    "        print(\"neutral\")\n",
    "        neu=neu+1\n",
    "    else :\n",
    "        print(\"negative\")\n",
    "        neg=neg+1\n",
    "\n",
    "plt.xlabel(\"tags\")\n",
    "plt.ylabel(\"polarity\")\n",
    "#plt.bar(['pos','neg','neu'],[pos,neg,neu])\n",
    "plt.pie([pos,neg,neu],labels=[\"pos\",\"neg\",\"neu\"],autopct=\"%1.1f%%\")\n",
    "plt.show()        \n",
    "    "
   ]
  },
  {
   "cell_type": "code",
   "execution_count": null,
   "metadata": {},
   "outputs": [],
   "source": []
  }
 ],
 "metadata": {
  "kernelspec": {
   "display_name": "Python 3",
   "language": "python",
   "name": "python3"
  },
  "language_info": {
   "codemirror_mode": {
    "name": "ipython",
    "version": 3
   },
   "file_extension": ".py",
   "mimetype": "text/x-python",
   "name": "python",
   "nbconvert_exporter": "python",
   "pygments_lexer": "ipython3",
   "version": "3.6.8"
  }
 },
 "nbformat": 4,
 "nbformat_minor": 2
}
